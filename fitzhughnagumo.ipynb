{
 "cells": [
  {
   "cell_type": "code",
   "execution_count": 36,
   "metadata": {
    "collapsed": false
   },
   "outputs": [
    {
     "data": {
      "image/png": "[encoded data removed]",
      "text/plain": [
       "<matplotlib.figure.Figure at 0x10f42a400>"
      ]
     },
     "metadata": {},
     "output_type": "display_data"
    }
   ],
   "source": [
    "from IPython import *\n",
    "%matplotlib inline\n",
    "import matplotlib.pyplot as plt\n",
    "import numpy as np\n",
    "from IPython.html.widgets import *\n",
    "from scipy import integrate\n",
    "\n",
    "\n",
    "# Definition of parameters \n",
    "\n",
    "a = 3\n",
    "I = 5\n",
    "c = 0.5\n",
    "b = 2\n",
    "e = 0.1\n",
    "\n",
    "\n",
    "XX = np.linspace(-5,5,500)\n",
    "t = np.linspace(0, 100, 1000)\n",
    "X0 = np.array([1, 1])\n",
    "\n",
    "def f(I,a):\n",
    "\n",
    "    def dX_dt(X, t=0):\n",
    "\n",
    "        return array([ X[0] - (1/3)*X[0]**3 - X[1] + I,\n",
    "                      X[0] + a - b*X[1] ])\n",
    "\n",
    "\n",
    "    X, infodict = integrate.odeint(dX_dt, X0, t, full_output=True)\n",
    "\n",
    "    x,y = X.T\n",
    "\n",
    "    nc1 =  I + XX - (1/3)*XX**3\n",
    "    nc2 = (XX + a)/b\n",
    "\n",
    "    plt.plot(XX,nc1,'r')\n",
    "    plt.plot(XX,nc2,'g')\n",
    "    plt.plot(x,y,'k')\n",
    "    plt.axis([-5,5,-5,5])\n",
    "    plt.xlabel('$X$')\n",
    "    plt.ylabel('$Y$')\n",
    "    plt.show()\n",
    "    \n",
    "\n",
    "\n",
    "interact(f, I = (0,20,0.1), a = (0,10,0.1))\n",
    "    \n"
   ]
  },
  {
   "cell_type": "code",
   "execution_count": null,
   "metadata": {
    "collapsed": true
   },
   "outputs": [],
   "source": []
  }
 ],
 "metadata": {
  "anaconda-cloud": {},
  "kernelspec": {
   "display_name": "Python [default]",
   "language": "python",
   "name": "python3"
  },
  "language_info": {
   "codemirror_mode": {
    "name": "ipython",
    "version": 3
   },
   "file_extension": ".py",
   "mimetype": "text/x-python",
   "name": "python",
   "nbconvert_exporter": "python",
   "pygments_lexer": "ipython3",
   "version": "3.5.2"
  },
  "widgets": {
   "state": {
    "3b0820b920064ad0852460f54416c231": {
     "views": [
      {
       "cell_index": 0
      }
     ]
    }
   },
   "version": "1.2.0"
  }
 },
 "nbformat": 4,
 "nbformat_minor": 1
}
